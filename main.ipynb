{
 "cells": [
  {
   "cell_type": "code",
   "execution_count": null,
   "metadata": {},
   "outputs": [],
   "source": [
    "#imports\n",
    "import csv\n",
    "import json\n",
    "import requests\n",
    "import traceback\n",
    "import pandas as pd \n",
    "from bs4 import BeautifulSoup\n",
    "from collections import defaultdict \n",
    "from requests.exceptions import JSONDecodeError"
   ]
  },
  {
   "cell_type": "markdown",
   "metadata": {},
   "source": [
    "1. Implement a pageload to get the JSON data with your scraper."
   ]
  },
  {
   "cell_type": "code",
   "execution_count": 8,
   "metadata": {},
   "outputs": [
    {
     "data": {
      "text/plain": [
       "\" Commenting as task does not require to scrape all json data.\\n# let's create a loop to go through each flight and extract information.\\njson_data_list = [] #creating empty list to store scraped json data\\nfor from_city in from_options:\\n    for to_city in to_options:\\n        if from_city != to_city:\\n            json_data = flight_save_data(from_city, to_city, depart_date, return_date)\\n            if json_data:\\n                json_data_list.append(json_data)\\n\""
      ]
     },
     "execution_count": 8,
     "metadata": {},
     "output_type": "execute_result"
    }
   ],
   "source": [
    "# Creating function to scrape data based on set parameters. \n",
    "def flight_save_data(from_city, to_city, depart_date, return_date):\n",
    "    url = \"http://homeworktask.infare.lt/search.php\"\n",
    "    params = {\"from\": from_city, \"to\": to_city, \"depart\": depart_date, \"return\": return_date}\n",
    "    \n",
    "    try:\n",
    "        response = requests.get(url, params=params)\n",
    "        data = response.json()\n",
    "        file_name = f\"{from_city}-{to_city}_{depart_date}_to_{return_date}.json\"\n",
    "        with open(file_name, 'w') as file:\n",
    "            json.dump(data, file, indent=4)\n",
    "        print(f\"Data saved to {file_name}\")\n",
    "        return data\n",
    "    except Exception as e:\n",
    "        print(f\"Route not available\")\n",
    "        return None\n",
    "              \n",
    "\n",
    "\n",
    "# using bs4 to scrape from/to options \n",
    "r = requests.get(f'http://homeworktask.infare.lt/')\n",
    "html_file = r.text\n",
    "soup = BeautifulSoup(html_file, \"html.parser\")\n",
    "\n",
    "# Get all from and to options, added option - if option[\"value\"] which checks if value even exists\n",
    "from_options = [option[\"value\"] for option in soup.find(\"select\", id=\"from\").find_all(\"option\") if option[\"value\"]]\n",
    "to_options = [option[\"value\"] for option in soup.find(\"select\", id=\"to\").find_all(\"option\") if option[\"value\"]]\n",
    "\n",
    "\n",
    "# select depart/return dates.\n",
    "depart_date = \"2024-03-03\"\n",
    "return_date =  \"2024-03-29\"\n",
    "\n",
    "\"\"\" Commenting as task does not require to scrape all json data.\n",
    "# let's create a loop to go through each flight and extract information.\n",
    "json_data_list = [] #creating empty list to store scraped json data\n",
    "for from_city in from_options:\n",
    "    for to_city in to_options:\n",
    "        if from_city != to_city:\n",
    "            json_data = flight_save_data(from_city, to_city, depart_date, return_date)\n",
    "            if json_data:\n",
    "                json_data_list.append(json_data)\n",
    "\"\"\"               "
   ]
  },
  {
   "cell_type": "markdown",
   "metadata": {},
   "source": [
    "2. Extract outbound and inbound flight data flying from MAD to AUH. You may choose any dates."
   ]
  },
  {
   "cell_type": "code",
   "execution_count": 10,
   "metadata": {},
   "outputs": [
    {
     "name": "stdout",
     "output_type": "stream",
     "text": [
      "Data saved to MAD-AUH_2024-03-03_to_2024-03-29.json\n"
     ]
    }
   ],
   "source": [
    "# we can re-use our function flight_save_data to gather required data\n",
    "# it also creates a json file with the given parameters.\n",
    "\n",
    "data = flight_save_data(\"MAD\",\"AUH\", depart_date, return_date)\n",
    "\n"
   ]
  },
  {
   "cell_type": "markdown",
   "metadata": {},
   "source": [
    "3. Make outbound and Inbound flight combinations for each price category (roundtrip flights)."
   ]
  },
  {
   "cell_type": "code",
   "execution_count": 4,
   "metadata": {},
   "outputs": [
    {
     "name": "stdout",
     "output_type": "stream",
     "text": [
      "Recommendation ID: 3, Total Price: 375.38\n",
      "Recommendation ID: 10, Total Price: 446.38\n",
      "Recommendation ID: 11, Total Price: 454.38\n",
      "Recommendation ID: 17, Total Price: 504.38\n",
      "Recommendation ID: 21, Total Price: 525.38\n",
      "Recommendation ID: 22, Total Price: 525.38\n",
      "Recommendation ID: 27, Total Price: 575.38\n",
      "Recommendation ID: 28, Total Price: 575.38\n",
      "Recommendation ID: 31, Total Price: 603.38\n",
      "Recommendation ID: 34, Total Price: 654.38\n",
      "Recommendation ID: 35, Total Price: 654.38\n",
      "Recommendation ID: 36, Total Price: 689.38\n",
      "Recommendation ID: 37, Total Price: 704.38\n",
      "Recommendation ID: 38, Total Price: 725.38\n",
      "Recommendation ID: 43, Total Price: 760.38\n",
      "Recommendation ID: 44, Total Price: 760.38\n",
      "Recommendation ID: 49, Total Price: 796.38\n",
      "Recommendation ID: 50, Total Price: 796.38\n",
      "Recommendation ID: 60, Total Price: 838.38\n",
      "Recommendation ID: 61, Total Price: 838.38\n",
      "Recommendation ID: 69, Total Price: 875.38\n",
      "Recommendation ID: 70, Total Price: 875.38\n",
      "Recommendation ID: 71, Total Price: 889.38\n",
      "Recommendation ID: 72, Total Price: 889.38\n",
      "Recommendation ID: 77, Total Price: 925.38\n",
      "Recommendation ID: 78, Total Price: 925.38\n",
      "Recommendation ID: 85, Total Price: 1073.38\n",
      "Recommendation ID: 86, Total Price: 1110.38\n",
      "Recommendation ID: 87, Total Price: 1110.38\n",
      "Recommendation ID: 90, Total Price: 1146.38\n"
     ]
    }
   ],
   "source": [
    "# All our craped data\n",
    "price_data = json_data\n",
    "\n",
    "# empty list for flight combinations\n",
    "flight_combinations = []\n",
    "\n",
    "# loop to extract the price that is nested in body/data/totaAvailabilities\n",
    "for prices in price_data[\"body\"][\"data\"][\"totalAvailabilities\"]:\n",
    "    recommendation_id = prices[\"recommendationId\"]\n",
    "    total_price = prices[\"total\"]\n",
    "    flight_combinations.append({\"recommendationId\": recommendation_id, \"totalPrice\": total_price})\n",
    "\n",
    "# print total price for each category\n",
    "for combination in flight_combinations:\n",
    "    print(f\"Recommendation ID: {combination['recommendationId']}, Total Price: {combination['totalPrice']}\")\n",
    "\n"
   ]
  },
  {
   "cell_type": "markdown",
   "metadata": {},
   "source": [
    "4. Extract all available prices and calculate taxes for each combination.\n",
    "* Data can be saved into a CSV file for examination."
   ]
  },
  {
   "cell_type": "code",
   "execution_count": 5,
   "metadata": {},
   "outputs": [],
   "source": [
    "# Loop to go through each flight and calculate taxes/base fare\n",
    "for combination in flight_combinations:\n",
    "    recommendation_id = combination[\"recommendationId\"]\n",
    "    journeys = [journey for journey in price_data[\"body\"][\"data\"][\"journeys\"] if journey[\"recommendationId\"] == recommendation_id]\n",
    "    \n",
    "    # summing taxes for the selected journeys\n",
    "    total_taxes = sum(journey.get(\"importTaxAdl\", 0) for journey in journeys)\n",
    "\n",
    "    # Calculating base fare by subtracting total taxes from total price\n",
    "    base_fare = combination[\"totalPrice\"] - total_taxes\n",
    "\n",
    "    combination[\"totalTaxes\"] = total_taxes\n",
    "    combination[\"baseFare\"] = base_fare\n",
    "\n",
    "# create csv headers(columns)\n",
    "header = ['Recommendation ID', 'Price', 'Taxes', 'Base Fare']\n",
    "\n",
    "# create/open csv file and put the info there\n",
    "with open('price_tax_combination.csv', 'w', newline='', encoding='utf-8') as file:\n",
    "    writer = csv.DictWriter(file, fieldnames=header)\n",
    "    writer.writeheader()\n",
    "    for combination in flight_combinations:\n",
    "        writer.writerow({\n",
    "            'Recommendation ID': combination['recommendationId'],\n",
    "            'Price': combination['totalPrice'],\n",
    "            'Taxes': combination['totalTaxes'],\n",
    "            'Base Fare': combination['baseFare']\n",
    "        })\n",
    "# Output is now accesible via \"price_tax_combination.csv\" file"
   ]
  },
  {
   "cell_type": "markdown",
   "metadata": {},
   "source": [
    "5. Find the cheapest price option for each flight combination.\n",
    "* Data can be saved into a CSV file for examination."
   ]
  },
  {
   "cell_type": "code",
   "execution_count": 6,
   "metadata": {},
   "outputs": [],
   "source": [
    "# extracting flight combinations\n",
    "flight_combinations = json_data[\"body\"][\"data\"][\"journeys\"]\n",
    "\n",
    "# finding the cheapest flights for each combination\n",
    "cheapest_combinations = {}\n",
    "\n",
    "for journey in flight_combinations:\n",
    "    recommendation_id = journey[\"recommendationId\"]\n",
    "    total_price = next((item[\"total\"] for item in json_data[\"body\"][\"data\"][\"totalAvailabilities\"] if item[\"recommendationId\"] == recommendation_id), None)\n",
    "\n",
    "    # Creating a unique identifier using flight numbers and dates\n",
    "    identifier = '-'.join(f\"{flight['number']}-{flight['dateDeparture']}\" for flight in journey[\"flights\"])\n",
    "\n",
    "    if identifier not in cheapest_combinations or total_price < cheapest_combinations[identifier][\"totalPrice\"]:\n",
    "        cheapest_combinations[identifier] = {\n",
    "            \"recommendationId\": recommendation_id,\n",
    "            \"totalPrice\": total_price\n",
    "        }\n",
    "\n",
    "# Writing tp csv file\n",
    "with open('cheapest_combinations.csv', 'w', newline='', encoding='utf-8') as file:\n",
    "    writer = csv.writer(file)\n",
    "    writer.writerow(['Unique Identifier', 'Recommendation ID', 'Total Price'])\n",
    "\n",
    "    for identifier, data in cheapest_combinations.items():\n",
    "        writer.writerow([identifier, data[\"recommendationId\"], data[\"totalPrice\"]])\n",
    "\n",
    "# Access combinations csv via \"cheapest_combinations.csv\" file"
   ]
  },
  {
   "cell_type": "markdown",
   "metadata": {},
   "source": [
    "6. Make sure that scraper can work with flights having 1 connection (example routes: JFK -AUH, CPH-\n",
    "MAD). Flights having 2 connections must be skipped."
   ]
  },
  {
   "cell_type": "code",
   "execution_count": 7,
   "metadata": {},
   "outputs": [
    {
     "name": "stdout",
     "output_type": "stream",
     "text": [
      "Number of filtered combinations: 239\n"
     ]
    }
   ],
   "source": [
    "# create list to store filtered flight combinations\n",
    "filtered_combinations = []\n",
    "\n",
    "for combination in flight_combinations:\n",
    "    \n",
    "    journeys = [journey for journey in price_data[\"body\"][\"data\"][\"journeys\"] if journey[\"recommendationId\"] == combination[\"recommendationId\"]]\n",
    "\n",
    "    # Check if all journeys have 0 or 1 connection\n",
    "    # Append to filtered_combinations if it's true\n",
    "    if all(len(journey[\"flights\"]) <= 2 for journey in journeys):\n",
    "        filtered_combinations.append(combination)\n",
    "\n",
    "print(\"Number of filtered combinations:\", len(filtered_combinations))\n"
   ]
  },
  {
   "cell_type": "markdown",
   "metadata": {},
   "source": [
    "7. Make sure that scraper can work with any search parameter set (origin, destination, dates)."
   ]
  },
  {
   "cell_type": "code",
   "execution_count": null,
   "metadata": {},
   "outputs": [],
   "source": [
    "# To gather and save data, we can use our function called flight_save_data, that would gather info about the flight, create json file and put the info there.\n",
    "\n",
    "flight_save_data(\"JFK\",\"FUE\", \"2024-02-05\", \"2024-02-15\")\n"
   ]
  },
  {
   "cell_type": "markdown",
   "metadata": {},
   "source": [
    "8. Save extracted data into CSV file using multiple search parameter sets (choose 10 of any search\n",
    "parameters you want)."
   ]
  },
  {
   "cell_type": "code",
   "execution_count": 12,
   "metadata": {},
   "outputs": [],
   "source": [
    "# I will be using ALL scraped flight data from my first task\n",
    "\n",
    "# empty list to store all flights\n",
    "all_flights = []\n",
    "\n",
    "# Use given headers as per CSV Homework example\n",
    "headers = [\n",
    "    \"Price\", \"Taxes\", \n",
    "    \"outbound 1 airport departure\", \"outbound 1 airport arrival\", \"outbound 1 time departure\", \n",
    "    \"outbound 1 time arrival\", \"outbound 1 flight number\",\n",
    "    \"outbound 2 airport departure\", \"outbound 2 airport arrival\", \"outbound 2 time departure\", \n",
    "    \"outbound 2 time arrival\", \"outbound 2 flight number\",\n",
    "    \"inbound 1 airport departure\", \"inbound 1 airport arrival\", \"inbound 1 time departure\", \n",
    "    \"inbound 1 time arrival\", \"inbound 1 flight number\",\n",
    "    \"inbound 2 airport departure\", \"inbound 2 airport arrival\", \"inbound 2 time departure\", \n",
    "    \"inbound 2 time arrival\", \"inbound 2 flight number\"\n",
    "]\n",
    "\n",
    "# this loop goes through each journey nested in body/data\n",
    "for journey in json_data[\"body\"][\"data\"][\"journeys\"]:\n",
    "    # Initialize flight_data with None for all fields\n",
    "    flight_data = {key: None for key in headers}\n",
    "\n",
    "    # Check if the journey is inbound or outbound\n",
    "    direction = 'inbound' if journey[\"direction\"] == 'I' else 'outbound'\n",
    "\n",
    "    for i, segment in enumerate(journey[\"flights\"], start=1):\n",
    "        prefix = f\"{direction} {i} \"  # 'inbound 1', 'outbound 2', etc.\n",
    "        # Extract and store flight details\n",
    "        flight_data[prefix + \"airport departure\"] = segment[\"airportDeparture\"][\"code\"]\n",
    "        flight_data[prefix + \"airport arrival\"] = segment[\"airportArrival\"][\"code\"]\n",
    "        flight_data[prefix + \"time departure\"] = segment[\"dateDeparture\"]\n",
    "        flight_data[prefix + \"time arrival\"] = segment[\"dateArrival\"]\n",
    "        flight_data[prefix + \"flight number\"] = segment[\"number\"]\n",
    "\n",
    "    # Find the price information for the journey\n",
    "    recommendation_id = journey[\"recommendationId\"]\n",
    "    price_info = next((item for item in json_data[\"body\"][\"data\"][\"totalAvailabilities\"] if item[\"recommendationId\"] == recommendation_id), None)\n",
    "    # If price information is found, add price and tax details to the flight data\n",
    "    if price_info:\n",
    "        flight_data[\"Price\"] = price_info[\"total\"]\n",
    "        flight_data[\"Taxes\"] = sum(journey.get(\"importTaxAdl\", 0) for journey in json_data[\"body\"][\"data\"][\"journeys\"] if journey[\"recommendationId\"] == recommendation_id)\n",
    "\n",
    "    all_flights.append(flight_data)\n",
    "\n",
    "\n",
    "# Write data to CSV\n",
    "with open('flights_data.csv', 'w', newline='', encoding='utf-8') as file:\n",
    "    writer = csv.DictWriter(file, fieldnames=headers)\n",
    "    writer.writeheader()\n",
    "    for flight in all_flights:\n",
    "        writer.writerow(flight)\n",
    "# Now it's possible to see the scraped data via file \"Flights_data.csv\""
   ]
  }
 ],
 "metadata": {
  "kernelspec": {
   "display_name": "Python 3",
   "language": "python",
   "name": "python3"
  },
  "language_info": {
   "codemirror_mode": {
    "name": "ipython",
    "version": 3
   },
   "file_extension": ".py",
   "mimetype": "text/x-python",
   "name": "python",
   "nbconvert_exporter": "python",
   "pygments_lexer": "ipython3",
   "version": "3.12.0"
  }
 },
 "nbformat": 4,
 "nbformat_minor": 2
}
