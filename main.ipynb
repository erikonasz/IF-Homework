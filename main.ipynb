{
 "cells": [
  {
   "cell_type": "code",
   "execution_count": 31,
   "metadata": {},
   "outputs": [],
   "source": [
    "#imports\n",
    "import csv\n",
    "import json\n",
    "import requests\n",
    "import traceback\n",
    "import pandas as pd \n",
    "from bs4 import BeautifulSoup\n",
    "from collections import defaultdict \n",
    "from requests.exceptions import JSONDecodeError"
   ]
  },
  {
   "cell_type": "markdown",
   "metadata": {},
   "source": [
    "1. Implement a pageload to get the JSON data with your scraper."
   ]
  },
  {
   "cell_type": "code",
   "execution_count": 32,
   "metadata": {},
   "outputs": [
    {
     "data": {
      "text/plain": [
       "\" Commenting as task does not require to scrape all flights json data.\\n# let's create a loop to go through each flight and extract information.\\njson_data_list = [] #creating empty list to store scraped json data\\nfor from_city in from_options:\\n    for to_city in to_options:\\n        if from_city != to_city:\\n            json_data = flight_save_data(from_city, to_city, depart_date, return_date)\\n            if json_data:\\n                json_data_list.append(json_data)\\n\""
      ]
     },
     "execution_count": 32,
     "metadata": {},
     "output_type": "execute_result"
    }
   ],
   "source": [
    "# Creating function to scrape data based on set parameters, then it creates json file based on the from/to text and depart date/return date.\n",
    "def flight_save_data(from_city, to_city, depart_date, return_date):\n",
    "    url = \"http://homeworktask.infare.lt/search.php\"\n",
    "    params = {\n",
    "        \"from\": from_city, \n",
    "        \"to\": to_city, \n",
    "        \"depart\": depart_date, \n",
    "        \"return\": return_date\n",
    "        }\n",
    "    \n",
    "    try:\n",
    "        response = requests.get(url, params=params)\n",
    "        data = response.json()\n",
    "        \n",
    "        file_name = f\"{from_city}-{to_city}_{depart_date}_to_{return_date}.json\"\n",
    "        with open(file_name, 'w') as file:\n",
    "            json.dump(data, file, indent=4)\n",
    "            \n",
    "        print(f\"Data saved to {file_name}\")\n",
    "        \n",
    "        return data\n",
    "    \n",
    "    except JSONDecodeError: \n",
    "        print(f\"Route not available\")\n",
    "        \n",
    "        return None\n",
    "              \n",
    "\n",
    "\n",
    "# using bs4 to scrape from/to options\n",
    "r = requests.get(f'http://homeworktask.infare.lt/')\n",
    "html_file = r.text\n",
    "soup = BeautifulSoup(html_file, \"html.parser\")\n",
    "\n",
    "# Get all from and to options, added option - if option[\"value\"] which checks if value even exists\n",
    "from_options = [option[\"value\"] for option in soup.find(\"select\", id=\"from\").find_all(\"option\") if option[\"value\"]]\n",
    "to_options = [option[\"value\"] for option in soup.find(\"select\", id=\"to\").find_all(\"option\") if option[\"value\"]]\n",
    "\n",
    "# select depart/return dates.\n",
    "depart_date = \"2024-03-09\"\n",
    "return_date =  \"2024-03-23\"\n",
    "\n",
    "\n",
    "\n",
    "\"\"\" Commenting as task does not require to scrape all flights json data.\n",
    "# let's create a loop to go through each flight and extract information.\n",
    "json_data_list = [] #creating empty list to store scraped json data\n",
    "for from_city in from_options:\n",
    "    for to_city in to_options:\n",
    "        if from_city != to_city:\n",
    "            json_data = flight_save_data(from_city, to_city, depart_date, return_date)\n",
    "            if json_data:\n",
    "                json_data_list.append(json_data)\n",
    "\"\"\"               "
   ]
  },
  {
   "cell_type": "markdown",
   "metadata": {},
   "source": [
    "2. Extract outbound and inbound flight data flying from MAD to AUH. You may choose any dates."
   ]
  },
  {
   "cell_type": "code",
   "execution_count": 33,
   "metadata": {},
   "outputs": [
    {
     "name": "stdout",
     "output_type": "stream",
     "text": [
      "Data saved to MAD-AUH_2024-03-09_to_2024-03-23.json\n"
     ]
    }
   ],
   "source": [
    "# we can re-use our function flight_save_data to gather required data\n",
    "# it also creates a json file with the given parameters.\n",
    "\n",
    "data = flight_save_data(\"MAD\",\"AUH\", depart_date, return_date)\n",
    "\n"
   ]
  },
  {
   "cell_type": "markdown",
   "metadata": {},
   "source": [
    "3. Make outbound and Inbound flight combinations for each price category (roundtrip flights)."
   ]
  },
  {
   "cell_type": "code",
   "execution_count": 34,
   "metadata": {},
   "outputs": [
    {
     "name": "stdout",
     "output_type": "stream",
     "text": [
      "{'STANDARD': 179.5, 'FLEX': 2006.5}\n"
     ]
    }
   ],
   "source": [
    "# We need to extract all fare families and their pricings, dynamically so we get all prices & all journeys\n",
    "# Extract the journeys\n",
    "journeys = data['body']['data']['journeys']\n",
    "avails = data['body']['data']['totalAvailabilities']\n",
    "fare_families = {}\n",
    "\n",
    "for journey in journeys:\n",
    "    recommend_id = journey['recommendationId']\n",
    "    fare_family = journey['fareFamily']['description']\n",
    "    direction = journey['direction']\n",
    "    for other_journey in journeys:\n",
    "        # We find every journey with 2 similar fare families, then divide the base fare by 2 to get the price of 1 fare family\n",
    "        if journey['direction'] == 'I' and other_journey['direction'] == 'V' and recommend_id == other_journey['recommendationId']:\n",
    "            for avail in avails:\n",
    "                if avail['recommendationId'] == recommend_id:\n",
    "                    base_fare = round(avail['total'] - journey['importTaxAdl'] - other_journey['importTaxAdl'])\n",
    "                \n",
    "            if fare_family == other_journey['fareFamily']['description']:\n",
    "                fare_families[fare_family] = round(base_fare/2, 2)\n",
    "    \n",
    "print(fare_families)"
   ]
  },
  {
   "cell_type": "markdown",
   "metadata": {},
   "source": [
    "4. Extract all available prices and calculate taxes for each combination.\n",
    "* Data can be saved into a CSV file for examination."
   ]
  },
  {
   "cell_type": "code",
   "execution_count": 35,
   "metadata": {},
   "outputs": [],
   "source": [
    "# Prepare a list to store the combinations and also combination IDs to group each outbound-inbound combination\n",
    "combinations = []\n",
    "combination_ids = {}\n",
    "\n",
    "i = 1\n",
    "for journey in journeys:\n",
    "    if journey['direction'] == 'I':  # Ensures we're looking at an outbound journey\n",
    "        for other_journey in journeys:\n",
    "            if other_journey['direction'] == 'V':  # Ensures we're comparing with an inbound journey\n",
    "                if journey['direction'] == 'I' and other_journey['direction'] == 'V':\n",
    "                    outbound_price = fare_families[journey['fareFamily']['description']]\n",
    "                    inbound_price = fare_families[other_journey['fareFamily']['description']]\n",
    "                    combined_price = outbound_price + inbound_price\n",
    "                    \n",
    "                    total_outbound_tax = journey['importTaxAdl'] + journey['importTaxChd'] + journey['importTaxInf']\n",
    "                    total_inbound_tax = other_journey['importTaxAdl'] + other_journey['importTaxChd'] + other_journey['importTaxInf']\n",
    "                    total_tax = round(total_outbound_tax + total_inbound_tax, 2)\n",
    "                    \n",
    "                    total_price = round(combined_price + total_tax, 2)\n",
    "                    \n",
    "                    outbound_dep_airport = journey['flights'][0]['airportDeparture']['code']\n",
    "                    outbound_arr_airport = journey['flights'][0]['airportArrival']['code']\n",
    "                    \n",
    "                    outbound_departure = journey['flights'][0]['dateDeparture']\n",
    "                    outbound_arrival = journey['flights'][0]['dateArrival']\n",
    "                    \n",
    "                    outbound_flight = journey['flights'][0]['number']\n",
    "                    outbound_company = journey['flights'][0]['companyCode']\n",
    "                    \n",
    "                    outbound_flight_code = f'{outbound_company}{outbound_flight}'\n",
    "                    \n",
    "                    outbound_stops = len(journey['flights']) - 1\n",
    "                    \n",
    "                    if outbound_stops == 1:\n",
    "                        outbound2_dep_airport = journey['flights'][-1]['airportDeparture']['code']\n",
    "                        outbound2_arr_airport = journey['flights'][-1]['airportArrival']['code']\n",
    "                    \n",
    "                        outbound2_departure = journey['flights'][-1]['dateDeparture']\n",
    "                        outbound2_arrival = journey['flights'][-1]['dateArrival']\n",
    "                                    \n",
    "                        outbound2_flight = journey['flights'][-1]['number']\n",
    "                        outbound2_company = journey['flights'][-1]['companyCode']\n",
    "\n",
    "                        outbound2_flight_code = f'{outbound2_company}{outbound2_flight}'\n",
    "                    \n",
    "                    elif outbound_stops == 0:\n",
    "                        outbound2_dep_airport = ''\n",
    "                        outbound2_arr_airport = ''\n",
    "                    \n",
    "                        outbound2_departure = ''\n",
    "                        outbound2_arrival = ''\n",
    "\n",
    "                        outbound2_flight_code = ''\n",
    "                        \n",
    "                    else:\n",
    "                        continue\n",
    "                    \n",
    "                        \n",
    "                    inbound_dep_airport = other_journey['flights'][0]['airportDeparture']['code']\n",
    "                    inbound_arr_airport = other_journey['flights'][0]['airportArrival']['code']\n",
    "                    \n",
    "                    inbound_departure = other_journey['flights'][0]['dateDeparture']\n",
    "                    inbound_arrival = other_journey['flights'][0]['dateArrival']\n",
    "                    \n",
    "                    inbound_flight = journey['flights'][0]['number']\n",
    "                    inbound_company = journey['flights'][0]['companyCode']\n",
    "                    \n",
    "                    inbound_flight_code = f'{outbound_company}{outbound_flight}'\n",
    "                    \n",
    "                    inbound_stops = len(other_journey['flights']) - 1\n",
    "                    \n",
    "                    if inbound_stops == 1:\n",
    "                        inbound2_dep_airport = journey['flights'][-1]['airportDeparture']['code']\n",
    "                        inbound2_arr_airport = journey['flights'][-1]['airportArrival']['code']\n",
    "                    \n",
    "                        inbound2_departure = journey['flights'][-1]['dateDeparture']\n",
    "                        inbound2_arrival = journey['flights'][-1]['dateArrival']\n",
    "                        \n",
    "                        inbound2_flight = journey['flights'][-1]['number']\n",
    "                        inbound2_company = journey['flights'][-1]['companyCode']\n",
    "\n",
    "                        inbound2_flight_code = f'{inbound2_company}{inbound2_flight}'\n",
    "                        \n",
    "                    elif inbound_stops == 0:\n",
    "                        inbound2_dep_airport = ''\n",
    "                        inbound2_arr_airport = ''\n",
    "                    \n",
    "                        inbound2_departure = ''\n",
    "                        inbound2_arrival = ''\n",
    "                        \n",
    "                        inbound2_flight_code = ''\n",
    "                    \n",
    "                    else:\n",
    "                        continue\n",
    "                        \n",
    "                    combination_identifier_list = [\n",
    "                        outbound_dep_airport,          \n",
    "                        outbound_arr_airport,\n",
    "                        outbound_departure,\n",
    "                        outbound_arrival,\n",
    "                        inbound_dep_airport,\n",
    "                        inbound_arr_airport,\n",
    "                        inbound_departure,\n",
    "                        inbound_arrival\n",
    "                    ]\n",
    "                    \n",
    "                    combination_identifier = '-'.join(combination_identifier_list)\n",
    "                    \n",
    "                    if combination_identifier not in combination_ids:\n",
    "                        combination_ids[combination_identifier] = i\n",
    "                        i += 1\n",
    "\n",
    "                    combination_dict = {\n",
    "                        \"Combination\": combination_ids[combination_identifier],\n",
    "                        \"Price\": total_price,\n",
    "                        \"Base Fare\": combined_price,\n",
    "                        \"Taxes\": total_tax,\n",
    "                        \"outbound fare\": journey['fareFamily']['description'],\n",
    "                        \"inbound fare\": other_journey['fareFamily']['description'],\n",
    "                        \"outbound 1 airport departure\": outbound_dep_airport,\n",
    "                        \"outbound 1 airport arrival\": outbound_arr_airport,\n",
    "                        \"outbound 1 time departure\": outbound_departure,\n",
    "                        \"outbound 1 time arrival\": outbound_arrival,\n",
    "                        \"outbound 1 flight number\": outbound_flight_code,\n",
    "                        \"outbound 2 airport departure\": outbound2_dep_airport,\n",
    "                        \"outbound 2 airport arrival\": outbound2_arr_airport,\n",
    "                        \"outbound 2 time departure\": outbound2_departure,\n",
    "                        \"outbound 2 time arrival\": outbound2_arrival,\n",
    "                        \"outbound 2 flight number\": outbound2_flight_code,\n",
    "                        \"inbound 1 airport departure\": inbound_dep_airport,\n",
    "                        \"inbound 1 airport arrival\": inbound_arr_airport,\n",
    "                        \"inbound 1 time departure\": inbound_departure,\n",
    "                        \"inbound 1 time arrival\": inbound_arrival,\n",
    "                        \"inbound 1 flight number\": inbound_flight_code,\n",
    "                        \"inbound 2 airport departure\": inbound2_dep_airport,\n",
    "                        \"inbound 2 airport arrival\": inbound2_arr_airport,\n",
    "                        \"inbound 2 time departure\": inbound2_departure,\n",
    "                        \"inbound 2 time arrival\": inbound2_arrival,\n",
    "                        \"inbound 2 flight number\": inbound2_flight_code,\n",
    "                        \"outbound stops\": outbound_stops,\n",
    "                        \"inbound stops\": inbound_stops,    \n",
    "                    }\n",
    "                    \n",
    "                    if combination_dict not in combinations:\n",
    "                        combinations.append(combination_dict)\n",
    "            \n",
    "\n",
    "sorted_combinations = sorted(combinations, key=lambda x: x[next(iter(x))])\n",
    "\n",
    "# Convert the list of combinations to a DataFrame\n",
    "sorted_combinations_df = pd.DataFrame(sorted_combinations)\n",
    "\n",
    "# Save the DataFrame to a CSV file\n",
    "sorted_combinations_df.to_csv('combinations.csv', index=False)"
   ]
  },
  {
   "cell_type": "markdown",
   "metadata": {},
   "source": [
    "5. Find the cheapest price option for each flight combination.\n",
    "* Data can be saved into a CSV file for examination."
   ]
  },
  {
   "cell_type": "code",
   "execution_count": 36,
   "metadata": {},
   "outputs": [],
   "source": [
    "# Grouping by \"Combination\" key\n",
    "grouped_data = defaultdict(list)\n",
    "for combination in sorted_combinations:\n",
    "    grouped_data[combination['Combination']].append(combination)\n",
    "\n",
    "# Finding the cheapest for each group\n",
    "cheapest_flights = []\n",
    "for group, flights in grouped_data.items():\n",
    "    cheapest_flight = min(flights, key=lambda x: x['Price'])\n",
    "    cheapest_flights.append(cheapest_flight)\n",
    "    \n",
    "cheapest_flights_df = pd.DataFrame(cheapest_flights)\n",
    "cheapest_flights_df.to_csv('cheapest_flights.csv', index=False)"
   ]
  },
  {
   "cell_type": "markdown",
   "metadata": {},
   "source": [
    "6. Make sure that scraper can work with flights having 1 connection (example routes: JFK -AUH, CPH-\n",
    "MAD). Flights having 2 connections must be skipped."
   ]
  },
  {
   "cell_type": "code",
   "execution_count": 37,
   "metadata": {},
   "outputs": [
    {
     "name": "stdout",
     "output_type": "stream",
     "text": [
      "Number of filtered combinations: 1\n"
     ]
    }
   ],
   "source": [
    "# create list to store filtered flight combinations\n",
    "filtered_combinations = []\n",
    "\n",
    "for combination in cheapest_flights:\n",
    "    if combination['outbound stops'] <= 1 and combination['inbound stops'] <= 1:\n",
    "        filtered_combinations.append(combination)\n",
    "\n",
    "print(\"Number of filtered combinations:\", len(filtered_combinations))"
   ]
  },
  {
   "cell_type": "markdown",
   "metadata": {},
   "source": [
    "7. Make sure that scraper can work with any search parameter set (origin, destination, dates)."
   ]
  },
  {
   "cell_type": "code",
   "execution_count": 18,
   "metadata": {},
   "outputs": [
    {
     "name": "stdout",
     "output_type": "stream",
     "text": [
      "Data saved to MAD-AUH_2024-03-09_to_2024-03-23.json\n"
     ]
    }
   ],
   "source": [
    "# To gather and save data, we can use our function called flight_save_data, that would gather info about the flight, create json file and put the info there.\n",
    "# Change origins here, and adjust depart_date and return_Date in first function\n",
    "\n",
    "data = flight_save_data(\"MAD\",\"AUH\", depart_date, return_date)\n"
   ]
  },
  {
   "cell_type": "markdown",
   "metadata": {},
   "source": [
    "8. Save extracted data into CSV file using multiple search parameter sets (choose 10 of any search\n",
    "parameters you want)."
   ]
  },
  {
   "cell_type": "code",
   "execution_count": 38,
   "metadata": {},
   "outputs": [],
   "source": [
    "# Dropping columns to match the task CSV example\n",
    "\n",
    "columns_to_drop = ['Combination', 'Base Fare', 'outbound fare', 'inbound fare', 'outbound stops', 'inbound stops']\n",
    "filtered_combinations_df = cheapest_flights_df.drop(columns=columns_to_drop)\n",
    "\n",
    "# Save the DataFrame to a CSV file with final data as example in task\n",
    "filtered_combinations_df.to_csv('final_data.csv', index=False)"
   ]
  }
 ],
 "metadata": {
  "kernelspec": {
   "display_name": "Python 3",
   "language": "python",
   "name": "python3"
  },
  "language_info": {
   "codemirror_mode": {
    "name": "ipython",
    "version": 3
   },
   "file_extension": ".py",
   "mimetype": "text/x-python",
   "name": "python",
   "nbconvert_exporter": "python",
   "pygments_lexer": "ipython3",
   "version": "3.12.0"
  }
 },
 "nbformat": 4,
 "nbformat_minor": 2
}
